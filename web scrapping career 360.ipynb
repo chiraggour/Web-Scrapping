{
 "cells": [
  {
   "cell_type": "code",
   "execution_count": 1,
   "id": "e4caaa58-bd0d-4510-80f6-88fe0c35926d",
   "metadata": {},
   "outputs": [],
   "source": [
    "import pandas as pd\n",
    "import requests\n",
    "from bs4 import BeautifulSoup #web scrapping library (bs4 = beautiful soup 4)\n",
    "import numpy as np"
   ]
  },
  {
   "cell_type": "code",
   "execution_count": 2,
   "id": "15f9c79f-2a59-41d1-8191-9c60ad7f745e",
   "metadata": {},
   "outputs": [],
   "source": [
    "headers={'User-Agent':'Mozilla/5.0 (Windows NT 6.3; Win 64 ; x64) Apple WeKit /537.36(KHTML , like Gecko) Chrome/80.0.3987.162 Safari/537.36'}\n",
    "webpage = requests.get('https://www.careers360.com/colleges/india-colleges-fctp?page=2&sort_by=1', headers=headers).text"
   ]
  },
  {
   "cell_type": "code",
   "execution_count": 3,
   "id": "18ad0a66-0320-4671-933b-2433fcebab77",
   "metadata": {},
   "outputs": [],
   "source": [
    "soup = BeautifulSoup(webpage, \"lxml\")"
   ]
  },
  {
   "cell_type": "code",
   "execution_count": 4,
   "id": "cec3b2ed-8b84-4791-bfa5-de08e6a50115",
   "metadata": {},
   "outputs": [],
   "source": [
    "college = soup.find_all('div', class_='left_side_tupple')"
   ]
  },
  {
   "cell_type": "code",
   "execution_count": 26,
   "id": "ae826821-80fc-429a-bdc5-d92689405128",
   "metadata": {},
   "outputs": [
    {
     "ename": "NameError",
     "evalue": "name 'coursecourse' is not defined",
     "output_type": "error",
     "traceback": [
      "\u001b[1;31m---------------------------------------------------------------------------\u001b[0m",
      "\u001b[1;31mNameError\u001b[0m                                 Traceback (most recent call last)",
      "Cell \u001b[1;32mIn[26], line 13\u001b[0m\n\u001b[0;32m     11\u001b[0m city\u001b[38;5;241m.\u001b[39mappend(i\u001b[38;5;241m.\u001b[39mfind(\u001b[38;5;124m'\u001b[39m\u001b[38;5;124mdiv\u001b[39m\u001b[38;5;124m'\u001b[39m, class_\u001b[38;5;241m=\u001b[39m\u001b[38;5;124m'\u001b[39m\u001b[38;5;124mcontent_block d-none d-md-block d-md-flex flex-row justify-content-between\u001b[39m\u001b[38;5;124m'\u001b[39m)\u001b[38;5;241m.\u001b[39mtext\u001b[38;5;241m.\u001b[39msplit(\u001b[38;5;124m'\u001b[39m\u001b[38;5;124m,\u001b[39m\u001b[38;5;124m'\u001b[39m)[\u001b[38;5;241m0\u001b[39m]\u001b[38;5;241m.\u001b[39mstrip())\n\u001b[0;32m     12\u001b[0m state\u001b[38;5;241m.\u001b[39mappend(i\u001b[38;5;241m.\u001b[39mfind(\u001b[38;5;124m'\u001b[39m\u001b[38;5;124mdiv\u001b[39m\u001b[38;5;124m'\u001b[39m, class_\u001b[38;5;241m=\u001b[39m\u001b[38;5;124m'\u001b[39m\u001b[38;5;124mcontent_block d-none d-md-block d-md-flex flex-row justify-content-between\u001b[39m\u001b[38;5;124m'\u001b[39m)\u001b[38;5;241m.\u001b[39mtext\u001b[38;5;241m.\u001b[39msplit(\u001b[38;5;124m'\u001b[39m\u001b[38;5;124m,\u001b[39m\u001b[38;5;124m'\u001b[39m)[\u001b[38;5;241m1\u001b[39m]\u001b[38;5;241m.\u001b[39msplit()[\u001b[38;5;241m0\u001b[39m]\u001b[38;5;241m.\u001b[39mstrip())\n\u001b[1;32m---> 13\u001b[0m coursecourse\u001b[38;5;241m.\u001b[39mappend(i\u001b[38;5;241m.\u001b[39mfind(\u001b[38;5;124m'\u001b[39m\u001b[38;5;124mul\u001b[39m\u001b[38;5;124m'\u001b[39m, class_\u001b[38;5;241m=\u001b[39m\u001b[38;5;124m'\u001b[39m\u001b[38;5;124msnippet_list\u001b[39m\u001b[38;5;124m'\u001b[39m)\u001b[38;5;241m.\u001b[39mtext)\n",
      "\u001b[1;31mNameError\u001b[0m: name 'coursecourse' is not defined"
     ]
    }
   ],
   "source": [
    "name=[]\n",
    "city=[]\n",
    "state=[]\n",
    "fees=[]\n",
    "course=[]\n",
    "rating=[]\n",
    "link=[]\n",
    "\n",
    "for i in college:\n",
    "    name.append(i.find('h3', class_= \"college_name\").text)\n",
    "    city.append(i.find('div', class_='content_block d-none d-md-block d-md-flex flex-row justify-content-between').text.split(',')[0].strip())\n",
    "    state.append(i.find('div', class_='content_block d-none d-md-block d-md-flex flex-row justify-content-between').text.split(',')[1].split()[0].strip())\n",
    "    course_info = i.find('ul', class_='snippet_list').text\n",
    "    re.find(course_info())\n"
   ]
  },
  {
   "cell_type": "code",
   "execution_count": 24,
   "id": "17963a79-aedf-4a84-8192-a3c82de583da",
   "metadata": {},
   "outputs": [
    {
     "data": {
      "text/plain": [
       "['Exams : CAT +1 MoreGraduate Management Admission TestFees :  ₹26 LakhsMBA (4 Courses) ',\n",
       " 'Fees :  ₹20.15 LakhsB.E /B.Tech (31 Courses) ',\n",
       " 'Exams : JEE Advanced Fees :  ₹8.54 LakhsB.E /B.Tech (12 Courses) ',\n",
       " 'Fees :  ₹16 LakhsB.E /B.Tech (2 Courses) ',\n",
       " 'Exams : JEE Main Fees :  ₹15.74 LakhsB.E /B.Tech (11 Courses) ',\n",
       " 'Exams : JEE Main Fees :  ₹8.64 LakhsB.E /B.Tech (13 Courses) ',\n",
       " '',\n",
       " '',\n",
       " 'Fees :  ₹13.72 K',\n",
       " 'Fees :  ₹59.01 K',\n",
       " '',\n",
       " 'Exams : JEE Main Fees :  ₹5.74 LakhsB.E /B.Tech (11 Courses) ',\n",
       " 'Exams : JEE Main Fees :  ₹6.60 LakhsB.E /B.Tech (14 Courses) ',\n",
       " 'Exams : JEE Advanced Fees :  ₹9.06 LakhsB.E /B.Tech (15 Courses) ',\n",
       " 'Fees :  ₹71 KMBA (2 Courses) ',\n",
       " 'B.E /B.Tech (4 Courses) ',\n",
       " 'Exams : JEE Main +1 MoreVIT Engineering Entrance ExamB.E /B.Tech (15 Courses) ',\n",
       " 'Exams : CAT +4 MoreCommon Management Admission TestXavier Aptitude TestManagement Aptitude TestGraduate Management Admission TestFees :  ₹1.75 Lakhs',\n",
       " 'B.Sc. (7 Courses) ',\n",
       " '',\n",
       " '',\n",
       " 'Exams : JEE Main Fees :  ₹6.29 LakhsB.E /B.Tech (15 Courses) ',\n",
       " 'Exams : JEE Main Fees :  ₹6.23 LakhsB.E /B.Tech (10 Courses) ',\n",
       " 'Exams : JEE Advanced Fees :  ₹8.58 LakhsB.E /B.Tech (9 Courses) ',\n",
       " '',\n",
       " 'Exams : CAT Fees :  ₹9 Lakhs',\n",
       " 'Exams : UoH Entrance Exam +1 MoreCommon University Entrance Test (PG)M.Sc. (13 Courses) ',\n",
       " '',\n",
       " 'Fees :  ₹5.85 K',\n",
       " 'P.G.D (1 Course) ',\n",
       " 'Fees :  ₹13.72 K',\n",
       " 'Exams : JEE Main +2 MoreConsortium of Medical, Engineering and Dental Colleges of Karnataka Under Graduate Entrance TestKarnataka Common Entrance TestFees :  ₹13 LakhsB.E /B.Tech (33 Courses) ',\n",
       " 'Exams : CAT +2 MoreXavier Aptitude TestGraduate Management Admission TestFees :  ₹21.38 LakhsP.G.D.M (7 Courses) ',\n",
       " 'Exams : CAT P.G.P (5 Courses) ',\n",
       " 'Exams : JEE Main Fees :  ₹5.67 LakhsB.E /B.Tech (8 Courses) ',\n",
       " 'Exams : JEE Main Fees :  ₹5.77 LakhsB.E /B.Tech (9 Courses) ',\n",
       " 'Exams : CLAT Fees :  ₹30.33 Lakhs',\n",
       " 'Exams : JEE Main Fees :  ₹6.36 LakhsB.E /B.Tech (14 Courses) ',\n",
       " 'Exams : JEE Main Fees :  ₹6.02 LakhsB.E /B.Tech (7 Courses) ',\n",
       " 'Exams : JEE Main Fees :  ₹6.17 LakhsB.E /B.Tech (8 Courses) ',\n",
       " 'Exams : JEE Main Fees :  ₹6.00 LakhsB.E /B.Tech (6 Courses) ',\n",
       " 'Exams : JEE Advanced Fees :  ₹8.67 LakhsB.E /B.Tech (7 Courses) ',\n",
       " 'Exams : JEE Advanced Fees :  ₹9.41 LakhsB.E /B.Tech (11 Courses) ',\n",
       " 'Fees :  ₹1 LakhsExecutive MBA (2 Courses) ',\n",
       " 'Exams : JEE Main Fees :  ₹6.86 LakhsB.E /B.Tech (9 Courses) ',\n",
       " 'Exams : JEE Advanced Fees :  ₹8.79 LakhsB.E /B.Tech (10 Courses) ',\n",
       " 'Fees :  ₹1.50 Lakhs',\n",
       " 'Exams : JEE Advanced B.E /B.Tech (8 Courses) ',\n",
       " 'Exams : CAT +2 MoreGraduate Management Admission TestGraduate Record ExamFees :  ₹7.50 LakhsFPM (2 Courses) ',\n",
       " 'Exams : SAEEE B.E /B.Tech (28 Courses) ']"
      ]
     },
     "execution_count": 24,
     "metadata": {},
     "output_type": "execute_result"
    }
   ],
   "source": [
    "course"
   ]
  },
  {
   "cell_type": "code",
   "execution_count": null,
   "id": "00728452-d5ea-4968-8379-62cb4934ee36",
   "metadata": {},
   "outputs": [],
   "source": []
  }
 ],
 "metadata": {
  "kernelspec": {
   "display_name": "Python 3 (ipykernel)",
   "language": "python",
   "name": "python3"
  },
  "language_info": {
   "codemirror_mode": {
    "name": "ipython",
    "version": 3
   },
   "file_extension": ".py",
   "mimetype": "text/x-python",
   "name": "python",
   "nbconvert_exporter": "python",
   "pygments_lexer": "ipython3",
   "version": "3.12.3"
  }
 },
 "nbformat": 4,
 "nbformat_minor": 5
}
